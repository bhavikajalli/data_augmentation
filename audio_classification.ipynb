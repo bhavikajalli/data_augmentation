{
 "cells": [
  {
   "cell_type": "code",
   "execution_count": 92,
   "metadata": {},
   "outputs": [],
   "source": [
    "import numpy as np\n",
    "import pandas as pd\n",
    "import seaborn as sb\n",
    "import matplotlib.pyplot as plt\n",
    "import sklearn\n",
    "import os\n",
    "import librosa\n",
    "import librosa.display\n",
    "import tensorflow as tf\n",
    "%matplotlib inline\n",
    "import matplotlib.pyplot as plt\n",
    "from sklearn import preprocessing\n",
    "from sklearn.linear_model import LogisticRegression\n",
    "from sklearn.cross_validation import train_test_split\n",
    "from sklearn import metrics "
   ]
  },
  {
   "cell_type": "code",
   "execution_count": null,
   "metadata": {
    "collapsed": true
   },
   "outputs": [],
   "source": [
    "table = np.zeros(shape=(302,7))\n",
    "folder =os.getcwd()+\"/data/train_data/\"\n",
    "a = 0\n",
    "labels = np.empty(0)\n",
    "for file in os.listdir(folder):\n",
    "    path = os.path.join(folder,file)\n",
    "    if path.endswith('.wav'):\n",
    "        y, sr = librosa.load(path)\n",
    "        stft = np.abs(librosa.stft(y))\n",
    "        y_harmonic, y_percussive = librosa.effects.hpss(y)\n",
    "        table[a,0] = np.mean(librosa.feature.melspectrogram(y, sr=sr, n_mels=128).T)\n",
    "        table[a,1]= np.mean(librosa.feature.chroma_cqt(y=y_harmonic, sr=sr).T)\n",
    "        table[a,2] = np.mean(librosa.feature.mfcc(S=stft, n_mfcc=13).T)\n",
    "        table[a,3] = np.mean(librosa.feature.spectral_contrast(S=stft, sr=sr).T)\n",
    "        table[a,4]= np.mean(librosa.feature.tonnetz(y=librosa.effects.harmonic(y),sr=sr).T)\n",
    "        tempo, beats = librosa.beat.beat_track(y=y_percussive, sr=sr)\n",
    "        table[a,5], table[a,6] = np.mean(tempo), np.mean(beats)\n",
    "        a = a+1\n",
    "        print(a)\n",
    "        #print(file,S,C,mfcc)\n",
    "        \n"
   ]
  },
  {
   "cell_type": "code",
   "execution_count": 142,
   "metadata": {},
   "outputs": [],
   "source": [
    "labels = np.empty(0)\n",
    "Y = np.empty(0)\n",
    "for file in os.listdir(folder):\n",
    "    path = os.path.join(folder,file)\n",
    "    if path.endswith('.wav'):\n",
    "        \n",
    "        labels = np.append(labels, file.split('_')[0])\n",
    "        \n",
    "names = [\"BassClarinet\", \"BassTrombone\", \"BbClarinet\", \"Cello\", \"EbClarinet\", \"Marimba\", \"TenorTrombone\", \"Viola\", \"Violin\", \"Xylophone\"]\n",
    "for i in labels:\n",
    "    Y = np.append(Y,names.index(i))\n",
    "\n",
    "    \n",
    "t = pd.DataFrame(data=table)\n",
    "l = pd.DataFrame(data=labels)\n",
    "result = pd.concat([l,t],axis = 1)\n",
    "result.columns = [\"Label\", \"mel\", \"Chroma\", \"mfcc\",\"contrast\",\"tonnetz\",\"tempo\",\"beats\"]"
   ]
  },
  {
   "cell_type": "code",
   "execution_count": 143,
   "metadata": {},
   "outputs": [
    {
     "data": {
      "text/plain": [
       "<matplotlib.axes._subplots.AxesSubplot at 0x11a25c8d0>"
      ]
     },
     "execution_count": 143,
     "metadata": {},
     "output_type": "execute_result"
    },
    {
     "data": {
      "image/png": "[encoded data removed]",
      "text/plain": [
       "<matplotlib.figure.Figure at 0x11a25c0f0>"
      ]
     },
     "metadata": {},
     "output_type": "display_data"
    }
   ],
   "source": [
    "#training\n",
    "sb.heatmap(result.corr())  "
   ]
  },
  {
   "cell_type": "code",
   "execution_count": 171,
   "metadata": {},
   "outputs": [],
   "source": [
    "#Training\n",
    "XX = result.ix[:,(1,2,3,4,5,6,7)].values\n",
    "yy = result.ix[:,0].values\n",
    "X_train, X_test, y_train, y_test = train_test_split(XX, yy, test_size = .3, random_state=0)\n"
   ]
  },
  {
   "cell_type": "code",
   "execution_count": 172,
   "metadata": {},
   "outputs": [],
   "source": [
    "from sklearn.ensemble import RandomForestClassifier\n",
    "\n",
    "rf = RandomForestClassifier(n_estimators=1024, n_jobs=-1)\n",
    "rf.fit(X_train, y_train)\n",
    "yhat2 = rf.predict(X_test)"
   ]
  },
  {
   "cell_type": "code",
   "execution_count": 173,
   "metadata": {},
   "outputs": [],
   "source": [
    "t = pd.DataFrame(data=y_test)\n",
    "l = pd.DataFrame(data=yhat2)\n",
    "final = pd.concat([l,t],axis = 1)"
   ]
  },
  {
   "cell_type": "code",
   "execution_count": null,
   "metadata": {
    "collapsed": true
   },
   "outputs": [],
   "source": [
    "print(final)"
   ]
  },
  {
   "cell_type": "code",
   "execution_count": 175,
   "metadata": {},
   "outputs": [
    {
     "name": "stdout",
     "output_type": "stream",
     "text": [
      "0.7912087912087912\n",
      "72\n"
     ]
    }
   ],
   "source": [
    "n_cor = 0\n",
    "for i in range(len(y_test)):\n",
    "    if y_test[i] == yhat2[i]:\n",
    "        n_cor = n_cor+1\n",
    "\n",
    "print(n_cor/len(y_test))\n",
    "print(n_cor)"
   ]
  },
  {
   "cell_type": "code",
   "execution_count": null,
   "metadata": {
    "collapsed": true
   },
   "outputs": [],
   "source": [
    "#TEsting\n",
    "test_table = np.zeros(shape=(131,7))\n",
    "folder =os.getcwd()+\"/data/test_data/\"\n",
    "a = 0\n",
    "labels = np.empty(0)\n",
    "for file in os.listdir(folder):\n",
    "    path = os.path.join(folder,file)\n",
    "    if path.endswith('.wav'):\n",
    "        y, sr = librosa.load(path)\n",
    "        stft = np.abs(librosa.stft(y))\n",
    "        y_harmonic, y_percussive = librosa.effects.hpss(y)\n",
    "        test_table[a,0] = np.mean(librosa.feature.melspectrogram(y, sr=sr, n_mels=128).T)\n",
    "        test_table[a,1]= np.mean(librosa.feature.chroma_cqt(y=y_harmonic, sr=sr).T)\n",
    "        test_table[a,2] = np.mean(librosa.feature.mfcc(S=stft, n_mfcc=13).T)\n",
    "        test_table[a,3] = np.mean(librosa.feature.spectral_contrast(S=stft, sr=sr).T)\n",
    "        test_table[a,4]= np.mean(librosa.feature.tonnetz(y=librosa.effects.harmonic(y),sr=sr).T)\n",
    "        tempo, beats = librosa.beat.beat_track(y=y_percussive, sr=sr)\n",
    "        test_table[a,5], test_table[a,6] = np.mean(tempo), np.mean(beats)\n",
    "        a = a+1\n",
    "        print(a)\n",
    "        \n",
    "y_final = rf.predict(test_table)"
   ]
  },
  {
   "cell_type": "code",
   "execution_count": null,
   "metadata": {
    "collapsed": true
   },
   "outputs": [],
   "source": [
    "y_final = rf.predict(test_table)\n",
    "submission = np.empty(0)\n",
    "a = 0\n",
    "for file in os.listdir(\"./data/test_data\"):\n",
    "    path = os.path.join(folder,file)\n",
    "    if path.endswith('.wav'):\n",
    "        submission = np.append(submission,file)\n",
    "        a = a+1\n",
    "\n",
    "aa = pd.DataFrame(data=submission)\n",
    "bb= pd.DataFrame(data=y_final[0:131])\n",
    "final = pd.concat([aa,bb],axis = 1)\n",
    "print(final)"
   ]
  },
  {
   "cell_type": "code",
   "execution_count": 206,
   "metadata": {},
   "outputs": [],
   "source": [
    "sub = final.to_csv('sub_1_bhavika.csv')"
   ]
  },
  {
   "cell_type": "code",
   "execution_count": null,
   "metadata": {
    "collapsed": true
   },
   "outputs": [],
   "source": []
  }
 ],
 "metadata": {
  "kernelspec": {
   "display_name": "Python [conda env:py35]",
   "language": "python",
   "name": "conda-env-py35-py"
  },
  "language_info": {
   "codemirror_mode": {
    "name": "ipython",
    "version": 3
   },
   "file_extension": ".py",
   "mimetype": "text/x-python",
   "name": "python",
   "nbconvert_exporter": "python",
   "pygments_lexer": "ipython3",
   "version": "3.5.3"
  }
 },
 "nbformat": 4,
 "nbformat_minor": 2
}
